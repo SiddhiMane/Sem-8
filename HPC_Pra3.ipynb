{
  "nbformat": 4,
  "nbformat_minor": 0,
  "metadata": {
    "colab": {
      "provenance": [],
      "gpuType": "T4",
      "authorship_tag": "ABX9TyOL3UtV0zEYejg4rM0hmYpm",
      "include_colab_link": true
    },
    "kernelspec": {
      "name": "python3",
      "display_name": "Python 3"
    },
    "language_info": {
      "name": "python"
    },
    "accelerator": "GPU"
  },
  "cells": [
    {
      "cell_type": "markdown",
      "metadata": {
        "id": "view-in-github",
        "colab_type": "text"
      },
      "source": [
        "<a href=\"https://colab.research.google.com/github/SiddhiMane/Sem-8/blob/main/HPC_Pra3.ipynb\" target=\"_parent\"><img src=\"https://colab.research.google.com/assets/colab-badge.svg\" alt=\"Open In Colab\"/></a>"
      ]
    },
    {
      "cell_type": "code",
      "source": [
        "%%writefile parallel_reduction.cpp\n",
        "#include <iostream>\n",
        "#include <vector>\n",
        "#include <omp.h>\n",
        "\n",
        "// Function to perform parallel reduction for finding the minimum value\n",
        "int parallel_min(const std::vector<int>& data) {\n",
        "    int min_val = data[0];\n",
        "    #pragma omp parallel for reduction(min:min_val)\n",
        "    for (size_t i = 1; i < data.size(); ++i) {\n",
        "        if (data[i] < min_val) {\n",
        "            min_val = data[i];\n",
        "        }\n",
        "    }\n",
        "    return min_val;\n",
        "}\n",
        "\n",
        "// Function to perform parallel reduction for finding the maximum value\n",
        "int parallel_max(const std::vector<int>& data) {\n",
        "    int max_val = data[0];\n",
        "    #pragma omp parallel for reduction(max:max_val)\n",
        "    for (size_t i = 1; i < data.size(); ++i) {\n",
        "        if (data[i] > max_val) {\n",
        "            max_val = data[i];\n",
        "        }\n",
        "    }\n",
        "    return max_val;\n",
        "}\n",
        "\n",
        "// Function to perform parallel reduction for finding the sum\n",
        "int parallel_sum(const std::vector<int>& data) {\n",
        "    int sum = 0;\n",
        "    #pragma omp parallel for reduction(+:sum)\n",
        "    for (size_t i = 0; i < data.size(); ++i) {\n",
        "        sum += data[i];\n",
        "    }\n",
        "    return sum;\n",
        "}\n",
        "\n",
        "// Function to perform parallel reduction for finding the average\n",
        "double parallel_avg(const std::vector<int>& data) {\n",
        "    int sum = parallel_sum(data);\n",
        "    return static_cast<double>(sum) / data.size();\n",
        "}\n",
        "\n",
        "int main() {\n",
        "    std::vector<int> data = {5, 2, 7, 10, 3, 8, 1, 6, 9, 4};\n",
        "\n",
        "    std::cout << \"Minimum value: \" << parallel_min(data) << std::endl;\n",
        "    std::cout << \"Maximum value: \" << parallel_max(data) << std::endl;\n",
        "    std::cout << \"Sum: \" << parallel_sum(data) << std::endl;\n",
        "    std::cout << \"Average: \" << parallel_avg(data) << std::endl;\n",
        "\n",
        "    return 0;\n",
        "}\n"
      ],
      "metadata": {
        "colab": {
          "base_uri": "https://localhost:8080/"
        },
        "id": "y-0gLD6y-rmc",
        "outputId": "7febae04-e272-44a7-b399-f2cf8a37a48a"
      },
      "execution_count": 6,
      "outputs": [
        {
          "output_type": "stream",
          "name": "stdout",
          "text": [
            "Overwriting parallel_reduction.cpp\n"
          ]
        }
      ]
    },
    {
      "cell_type": "code",
      "source": [
        "!g++ -fopenmp parallel_reduction.cpp -o parallel_reduction\n",
        "!./parallel_reduction\n"
      ],
      "metadata": {
        "colab": {
          "base_uri": "https://localhost:8080/"
        },
        "id": "mCizem8x-uP2",
        "outputId": "1c272d82-9786-4f99-c8f3-51cde3d6cbcd"
      },
      "execution_count": 7,
      "outputs": [
        {
          "output_type": "stream",
          "name": "stdout",
          "text": [
            "Minimum value: 1\n",
            "Maximum value: 10\n",
            "Sum: 55\n",
            "Average: 5.5\n"
          ]
        }
      ]
    }
  ]
}