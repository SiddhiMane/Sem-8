{
  "nbformat": 4,
  "nbformat_minor": 0,
  "metadata": {
    "colab": {
      "provenance": [],
      "authorship_tag": "ABX9TyOW08g0NQ2b+9YgXwY56Ja7",
      "include_colab_link": true
    },
    "kernelspec": {
      "name": "python3",
      "display_name": "Python 3"
    },
    "language_info": {
      "name": "python"
    }
  },
  "cells": [
    {
      "cell_type": "markdown",
      "metadata": {
        "id": "view-in-github",
        "colab_type": "text"
      },
      "source": [
        "<a href=\"https://colab.research.google.com/github/SiddhiMane/Sem-8/blob/main/HPC_Prac2.ipynb\" target=\"_parent\"><img src=\"https://colab.research.google.com/assets/colab-badge.svg\" alt=\"Open In Colab\"/></a>"
      ]
    },
    {
      "cell_type": "code",
      "execution_count": 4,
      "metadata": {
        "colab": {
          "base_uri": "https://localhost:8080/"
        },
        "id": "-meCCnAA7UVD",
        "outputId": "2413275d-0741-4696-a2cf-285ec1c36979"
      },
      "outputs": [
        {
          "output_type": "stream",
          "name": "stdout",
          "text": [
            "Writing parallel_sort.cpp\n"
          ]
        }
      ],
      "source": [
        "%%writefile parallel_sort.cpp\n",
        "#include <iostream>\n",
        "#include <vector>\n",
        "#include <omp.h>\n",
        "\n",
        "using namespace std;\n",
        "\n",
        "// Parallel Bubble Sort\n",
        "void parallelBubbleSort(vector<int>& arr) {\n",
        "    int n = arr.size();\n",
        "    bool swapped;\n",
        "\n",
        "    #pragma omp parallel shared(arr, swapped)\n",
        "    {\n",
        "        do {\n",
        "            swapped = false;\n",
        "\n",
        "            #pragma omp for\n",
        "            for (int i = 0; i < n-1; ++i) {\n",
        "                if (arr[i] > arr[i+1]) {\n",
        "                    swap(arr[i], arr[i+1]);\n",
        "                    swapped = true;\n",
        "                }\n",
        "            }\n",
        "        } while (swapped);\n",
        "    }\n",
        "}\n",
        "\n",
        "// Merge two sorted sub-arrays into one sorted array\n",
        "void merge(vector<int>& arr, int l, int m, int r) {\n",
        "    int n1 = m - l + 1;\n",
        "    int n2 = r - m;\n",
        "\n",
        "    vector<int> L(n1), R(n2);\n",
        "\n",
        "    for (int i = 0; i < n1; ++i)\n",
        "        L[i] = arr[l + i];\n",
        "    for (int j = 0; j < n2; ++j)\n",
        "        R[j] = arr[m + 1 + j];\n",
        "\n",
        "    int i = 0, j = 0, k = l;\n",
        "\n",
        "    while (i < n1 && j < n2) {\n",
        "        if (L[i] <= R[j]) {\n",
        "            arr[k] = L[i];\n",
        "            ++i;\n",
        "        } else {\n",
        "            arr[k] = R[j];\n",
        "            ++j;\n",
        "        }\n",
        "        ++k;\n",
        "    }\n",
        "\n",
        "    while (i < n1) {\n",
        "        arr[k] = L[i];\n",
        "        ++i;\n",
        "        ++k;\n",
        "    }\n",
        "\n",
        "    while (j < n2) {\n",
        "        arr[k] = R[j];\n",
        "        ++j;\n",
        "        ++k;\n",
        "    }\n",
        "}\n",
        "\n",
        "// Parallel Merge Sort\n",
        "void parallelMergeSort(vector<int>& arr, int l, int r) {\n",
        "    if (l < r) {\n",
        "        int m = l + (r - l) / 2;\n",
        "\n",
        "        #pragma omp parallel sections\n",
        "        {\n",
        "            #pragma omp section\n",
        "            parallelMergeSort(arr, l, m);\n",
        "            #pragma omp section\n",
        "            parallelMergeSort(arr, m+1, r);\n",
        "        }\n",
        "\n",
        "        merge(arr, l, m, r);\n",
        "    }\n",
        "}\n",
        "\n",
        "int main() {\n",
        "    vector<int> arr = {12, 11, 13, 5, 6, 7};\n",
        "\n",
        "    cout << \"Original array: \";\n",
        "    for (int num : arr)\n",
        "        cout << num << \" \";\n",
        "    cout << endl;\n",
        "\n",
        "    // Parallel Bubble Sort\n",
        "    parallelBubbleSort(arr);\n",
        "    cout << \"Array after parallel bubble sort: \";\n",
        "    for (int num : arr)\n",
        "        cout << num << \" \";\n",
        "    cout << endl;\n",
        "\n",
        "    // Resetting array for merge sort\n",
        "    arr = {12, 11, 13, 5, 6, 7};\n",
        "\n",
        "    // Parallel Merge Sort\n",
        "    parallelMergeSort(arr, 0, arr.size() - 1);\n",
        "    cout << \"Array after parallel merge sort: \";\n",
        "    for (int num : arr)\n",
        "        cout << num << \" \";\n",
        "    cout << endl;\n",
        "\n",
        "    return 0;\n",
        "}\n"
      ]
    },
    {
      "cell_type": "code",
      "source": [
        "!g++ -fopenmp -o parallel_sort parallel_sort.cpp\n",
        "!./parallel_sort\n"
      ],
      "metadata": {
        "colab": {
          "base_uri": "https://localhost:8080/"
        },
        "id": "DMo1Qs5X7eCM",
        "outputId": "6be1c900-77ff-4487-99e1-fd390acaa1e3"
      },
      "execution_count": 5,
      "outputs": [
        {
          "output_type": "stream",
          "name": "stdout",
          "text": [
            "Original array: 12 11 13 5 6 7 \n",
            "Array after parallel bubble sort: 5 6 7 11 12 13 \n",
            "Array after parallel merge sort: 5 6 7 11 12 13 \n"
          ]
        }
      ]
    }
  ]
}