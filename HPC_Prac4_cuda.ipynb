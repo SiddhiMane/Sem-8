{
  "nbformat": 4,
  "nbformat_minor": 0,
  "metadata": {
    "colab": {
      "provenance": [],
      "gpuType": "T4",
      "authorship_tag": "ABX9TyOgKZitCysoU6XweS7KFmiX",
      "include_colab_link": true
    },
    "kernelspec": {
      "name": "python3",
      "display_name": "Python 3"
    },
    "language_info": {
      "name": "python"
    },
    "accelerator": "GPU"
  },
  "cells": [
    {
      "cell_type": "markdown",
      "metadata": {
        "id": "view-in-github",
        "colab_type": "text"
      },
      "source": [
        "<a href=\"https://colab.research.google.com/github/SiddhiMane/Sem-8/blob/main/HPC_Prac4_cuda.ipynb\" target=\"_parent\"><img src=\"https://colab.research.google.com/assets/colab-badge.svg\" alt=\"Open In Colab\"/></a>"
      ]
    },
    {
      "cell_type": "code",
      "execution_count": 1,
      "metadata": {
        "colab": {
          "base_uri": "https://localhost:8080/"
        },
        "id": "v9eFi9P4_Rq2",
        "outputId": "bd1882e0-3420-4a48-a200-a12d5f010024"
      },
      "outputs": [
        {
          "output_type": "stream",
          "name": "stdout",
          "text": [
            "CUDA is available. You are using GPU.\n"
          ]
        }
      ],
      "source": [
        "import torch\n",
        "\n",
        "if torch.cuda.is_available():\n",
        "    print(\"CUDA is available. You are using GPU.\")\n",
        "else:\n",
        "    print(\"CUDA is not available. You are using CPU.\")\n"
      ]
    },
    {
      "cell_type": "code",
      "source": [
        "%%writefile vector_addition.cu\n",
        "#include <stdio.h>\n",
        "\n",
        "#define N 1000000 // Size of vectors\n",
        "\n",
        "// Kernel function to add two vectors\n",
        "__global__ void vectorAddition(float *a, float *b, float *c) {\n",
        "    int tid = blockIdx.x * blockDim.x + threadIdx.x;\n",
        "    if (tid < N)\n",
        "        c[tid] = a[tid] + b[tid];\n",
        "}\n",
        "\n",
        "int main() {\n",
        "    float *a, *b, *c; // Host vectors\n",
        "    float *d_a, *d_b, *d_c; // Device vectors\n",
        "    int size = N * sizeof(float);\n",
        "\n",
        "    // Allocate memory on host\n",
        "    a = (float*)malloc(size);\n",
        "    b = (float*)malloc(size);\n",
        "    c = (float*)malloc(size);\n",
        "\n",
        "    // Initialize vectors on host\n",
        "    for (int i = 0; i < N; i++) {\n",
        "        a[i] = 1.0f;\n",
        "        b[i] = 2.0f;\n",
        "    }\n",
        "\n",
        "    // Allocate memory on device\n",
        "    cudaMalloc(&d_a, size);\n",
        "    cudaMalloc(&d_b, size);\n",
        "    cudaMalloc(&d_c, size);\n",
        "\n",
        "    // Copy vectors from host to device\n",
        "    cudaMemcpy(d_a, a, size, cudaMemcpyHostToDevice);\n",
        "    cudaMemcpy(d_b, b, size, cudaMemcpyHostToDevice);\n",
        "\n",
        "    // Define block and grid dimensions\n",
        "    int threadsPerBlock = 256;\n",
        "    int blocksPerGrid = (N + threadsPerBlock - 1) / threadsPerBlock;\n",
        "\n",
        "    // Launch vector addition kernel\n",
        "    vectorAddition<<<blocksPerGrid, threadsPerBlock>>>(d_a, d_b, d_c);\n",
        "\n",
        "    // Copy result from device to host\n",
        "    cudaMemcpy(c, d_c, size, cudaMemcpyDeviceToHost);\n",
        "\n",
        "    // Verify results\n",
        "    for (int i = 0; i < 10; i++) {\n",
        "        printf(\"%f + %f = %f\\n\", a[i], b[i], c[i]);\n",
        "    }\n",
        "\n",
        "    // Free memory\n",
        "    free(a); free(b); free(c);\n",
        "    cudaFree(d_a); cudaFree(d_b); cudaFree(d_c);\n",
        "\n",
        "    return 0;\n",
        "}\n"
      ],
      "metadata": {
        "colab": {
          "base_uri": "https://localhost:8080/"
        },
        "id": "iZTAQYlgADzx",
        "outputId": "54738823-903a-424c-a7dc-a0aafbf10787"
      },
      "execution_count": 14,
      "outputs": [
        {
          "output_type": "stream",
          "name": "stdout",
          "text": [
            "Overwriting vector_addition.cu\n"
          ]
        }
      ]
    },
    {
      "cell_type": "code",
      "source": [
        "!nvcc -o vector_addition vector_addition.cu\n",
        "!./vector_addition\n"
      ],
      "metadata": {
        "colab": {
          "base_uri": "https://localhost:8080/"
        },
        "id": "7VHYt-8AClpV",
        "outputId": "0abd55a3-66c6-4f1a-912b-9bf8d6e5fbb7"
      },
      "execution_count": 15,
      "outputs": [
        {
          "output_type": "stream",
          "name": "stdout",
          "text": [
            "1.000000 + 2.000000 = 3.000000\n",
            "1.000000 + 2.000000 = 3.000000\n",
            "1.000000 + 2.000000 = 3.000000\n",
            "1.000000 + 2.000000 = 3.000000\n",
            "1.000000 + 2.000000 = 3.000000\n",
            "1.000000 + 2.000000 = 3.000000\n",
            "1.000000 + 2.000000 = 3.000000\n",
            "1.000000 + 2.000000 = 3.000000\n",
            "1.000000 + 2.000000 = 3.000000\n",
            "1.000000 + 2.000000 = 3.000000\n"
          ]
        }
      ]
    },
    {
      "cell_type": "code",
      "source": [
        "%%writefile matrix_multiplication.cu\n",
        "#include <stdio.h>\n",
        "\n",
        "#define N 1024 // Size of matrices (N x N)\n",
        "\n",
        "// Kernel function to perform matrix multiplication\n",
        "__global__ void matrixMultiplication(float *a, float *b, float *c, int n) {\n",
        "    int row = blockIdx.y * blockDim.y + threadIdx.y;\n",
        "    int col = blockIdx.x * blockDim.x + threadIdx.x;\n",
        "    float sum = 0.0f;\n",
        "    if (row < n && col < n) {\n",
        "        for (int i = 0; i < n; i++) {\n",
        "            sum += a[row * n + i] * b[i * n + col];\n",
        "        }\n",
        "        c[row * n + col] = sum;\n",
        "    }\n",
        "}\n",
        "\n",
        "int main() {\n",
        "    float *a, *b, *c; // Host matrices\n",
        "    float *d_a, *d_b, *d_c; // Device matrices\n",
        "    int size = N * N * sizeof(float);\n",
        "\n",
        "    // Allocate memory on host\n",
        "    a = (float*)malloc(size);\n",
        "    b = (float*)malloc(size);\n",
        "    c = (float*)malloc(size);\n",
        "\n",
        "    // Initialize matrices on host\n",
        "    for (int i = 0; i < N * N; i++) {\n",
        "        a[i] = 1.0f;\n",
        "        b[i] = 2.0f;\n",
        "    }\n",
        "\n",
        "    // Allocate memory on device\n",
        "    cudaMalloc(&d_a, size);\n",
        "    cudaMalloc(&d_b, size);\n",
        "    cudaMalloc(&d_c, size);\n",
        "\n",
        "    // Copy matrices from host to device\n",
        "    cudaMemcpy(d_a, a, size, cudaMemcpyHostToDevice);\n",
        "    cudaMemcpy(d_b, b, size, cudaMemcpyHostToDevice);\n",
        "\n",
        "    // Define block and grid dimensions\n",
        "    dim3 threadsPerBlock(16, 16);\n",
        "    dim3 blocksPerGrid((N + threadsPerBlock.x - 1) / threadsPerBlock.x,\n",
        "                       (N + threadsPerBlock.y - 1) / threadsPerBlock.y);\n",
        "\n",
        "    // Launch matrix multiplication kernel\n",
        "    matrixMultiplication<<<blocksPerGrid, threadsPerBlock>>>(d_a, d_b, d_c, N);\n",
        "\n",
        "    // Copy result from device to host\n",
        "    cudaMemcpy(c, d_c, size, cudaMemcpyDeviceToHost);\n",
        "\n",
        "    // Verify results (print a few elements)\n",
        "    for (int i = 0; i < 10; i++) {\n",
        "        printf(\"%f\\n\", c[i]);\n",
        "    }\n",
        "\n",
        "    // Free memory\n",
        "    free(a); free(b); free(c);\n",
        "    cudaFree(d_a); cudaFree(d_b); cudaFree(d_c);\n",
        "\n",
        "    return 0;\n",
        "}\n"
      ],
      "metadata": {
        "colab": {
          "base_uri": "https://localhost:8080/"
        },
        "id": "t-zOqChpDmqz",
        "outputId": "48725254-8ab5-4b9d-87cc-390789ce3719"
      },
      "execution_count": 16,
      "outputs": [
        {
          "output_type": "stream",
          "name": "stdout",
          "text": [
            "Writing matrix_multiplication.cu\n"
          ]
        }
      ]
    },
    {
      "cell_type": "code",
      "source": [
        "!nvcc -o matrix_multiplication matrix_multiplication.cu\n",
        "!./matrix_multiplication\n"
      ],
      "metadata": {
        "colab": {
          "base_uri": "https://localhost:8080/"
        },
        "id": "RjtY4ptTDqoE",
        "outputId": "8cda9a54-1435-4d2d-b23d-61af39e8d17e"
      },
      "execution_count": 17,
      "outputs": [
        {
          "output_type": "stream",
          "name": "stdout",
          "text": [
            "2048.000000\n",
            "2048.000000\n",
            "2048.000000\n",
            "2048.000000\n",
            "2048.000000\n",
            "2048.000000\n",
            "2048.000000\n",
            "2048.000000\n",
            "2048.000000\n",
            "2048.000000\n"
          ]
        }
      ]
    }
  ]
}