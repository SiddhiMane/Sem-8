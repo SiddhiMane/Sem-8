{
  "nbformat": 4,
  "nbformat_minor": 0,
  "metadata": {
    "colab": {
      "provenance": [],
      "gpuType": "T4",
      "authorship_tag": "ABX9TyN1t9lJYWVKGbmeD2jbY2rL",
      "include_colab_link": true
    },
    "kernelspec": {
      "name": "python3",
      "display_name": "Python 3"
    },
    "language_info": {
      "name": "python"
    },
    "accelerator": "GPU"
  },
  "cells": [
    {
      "cell_type": "markdown",
      "metadata": {
        "id": "view-in-github",
        "colab_type": "text"
      },
      "source": [
        "<a href=\"https://colab.research.google.com/github/SiddhiMane/Sem-8/blob/main/CUDA_4.ipynb\" target=\"_parent\"><img src=\"https://colab.research.google.com/assets/colab-badge.svg\" alt=\"Open In Colab\"/></a>"
      ]
    },
    {
      "cell_type": "code",
      "execution_count": 2,
      "metadata": {
        "colab": {
          "base_uri": "https://localhost:8080/"
        },
        "id": "Z19JKAwgJSiN",
        "outputId": "5c8cb029-2dcc-4a60-c9c0-b44f2d8a6522"
      },
      "outputs": [
        {
          "output_type": "stream",
          "name": "stdout",
          "text": [
            "Writing cuda_program.cu\n"
          ]
        }
      ],
      "source": [
        "%%writefile cuda_program.cu\n",
        "\n",
        "#include<iostream>\n",
        "#include<cuda_runtime.h>\n",
        "\n",
        "__global__ void addVectors(int *A, int *B, int *C, int n) {\n",
        "  int i = blockIdx.x * blockDim.x + threadIdx.x;\n",
        "  if(i < n) {\n",
        "    C[i] = A[i] + B[i];\n",
        "  }\n",
        "}\n",
        "\n",
        "int main() {\n",
        "  int n = 1000000;\n",
        "  int *A, *B, *C;\n",
        "  int size = n * sizeof(int);\n",
        "\n",
        "  // Allocate memory on the host\n",
        "  cudaMallocHost(&A, size);\n",
        "  cudaMallocHost(&B, size);\n",
        "  cudaMallocHost(&C, size);\n",
        "\n",
        "  // Initialize the Vectors\n",
        "  for(int i = 0; i < n; i++) {\n",
        "    A[i] = i;\n",
        "    B[i] = i * 2;\n",
        "  }\n",
        "\n",
        "  // Allocate memory on the device\n",
        "  int *dev_A, *dev_B, *dev_C;\n",
        "  cudaMalloc(&dev_A, size);\n",
        "  cudaMalloc(&dev_B, size);\n",
        "  cudaMalloc(&dev_C, size);\n",
        "\n",
        "  // Copy data from host to device\n",
        "  cudaMemcpy(dev_A, A, size, cudaMemcpyHostToDevice);\n",
        "  cudaMemcpy(dev_B, B, size, cudaMemcpyHostToDevice);\n",
        "\n",
        "  // Launch kernel\n",
        "  int blockSize = 256;\n",
        "  int numBlocks = (n + blockSize - 1) / blockSize;\n",
        "  addVectors<<<numBlocks, blockSize>>>(dev_A, dev_B, dev_C, n);\n",
        "\n",
        "  // Copy the result back from device to host\n",
        "  cudaMemcpy(C, dev_C, size, cudaMemcpyDeviceToHost);\n",
        "\n",
        "  // Print results\n",
        "  for(int i = 0; i < 10; i++) {\n",
        "    std::cout << C[i] << \" \";\n",
        "  }\n",
        "  std::cout << std::endl;\n",
        "\n",
        "  // Free memory\n",
        "  cudaFree(dev_A);\n",
        "  cudaFree(dev_B);\n",
        "  cudaFree(dev_C);\n",
        "\n",
        "  cudaFreeHost(A);\n",
        "  cudaFreeHost(B);\n",
        "  cudaFreeHost(C);\n",
        "\n",
        "  return 0;\n",
        "}\n"
      ]
    },
    {
      "cell_type": "code",
      "source": [
        "!nvcc -o cuda_program cuda_program.cu\n",
        "!./cuda_program\n"
      ],
      "metadata": {
        "colab": {
          "base_uri": "https://localhost:8080/"
        },
        "id": "j-LyuZIrJf9n",
        "outputId": "2790ec44-6433-413c-c039-701423a84d34"
      },
      "execution_count": 3,
      "outputs": [
        {
          "output_type": "stream",
          "name": "stdout",
          "text": [
            "0 3 6 9 12 15 18 21 24 27 \n"
          ]
        }
      ]
    }
  ]
}