{
  "nbformat": 4,
  "nbformat_minor": 0,
  "metadata": {
    "colab": {
      "provenance": [],
      "gpuType": "T4",
      "authorship_tag": "ABX9TyNwjTL+PqSCly2zkY7GkZkO",
      "include_colab_link": true
    },
    "kernelspec": {
      "name": "python3",
      "display_name": "Python 3"
    },
    "language_info": {
      "name": "python"
    },
    "accelerator": "GPU"
  },
  "cells": [
    {
      "cell_type": "markdown",
      "metadata": {
        "id": "view-in-github",
        "colab_type": "text"
      },
      "source": [
        "<a href=\"https://colab.research.google.com/github/SiddhiMane/Sem-8/blob/main/HPC_4_Prac.ipynb\" target=\"_parent\"><img src=\"https://colab.research.google.com/assets/colab-badge.svg\" alt=\"Open In Colab\"/></a>"
      ]
    },
    {
      "cell_type": "code",
      "execution_count": 11,
      "metadata": {
        "colab": {
          "base_uri": "https://localhost:8080/"
        },
        "id": "BkxLVhmkCt14",
        "outputId": "d827c2b8-a6f6-447a-a7a4-739c35c18b31"
      },
      "outputs": [
        {
          "output_type": "stream",
          "name": "stdout",
          "text": [
            "Collecting git+https://github.com/andreinechaev/nvcc4jupyter.git\n",
            "  Cloning https://github.com/andreinechaev/nvcc4jupyter.git to /tmp/pip-req-build-10_mho3f\n",
            "  Running command git clone --filter=blob:none --quiet https://github.com/andreinechaev/nvcc4jupyter.git /tmp/pip-req-build-10_mho3f\n",
            "  Resolved https://github.com/andreinechaev/nvcc4jupyter.git to commit 5741c522547756ac4bb7a16df32106a15efb8a57\n",
            "  Installing build dependencies ... \u001b[?25l\u001b[?25hdone\n",
            "  Getting requirements to build wheel ... \u001b[?25l\u001b[?25hdone\n",
            "  Preparing metadata (pyproject.toml) ... \u001b[?25l\u001b[?25hdone\n"
          ]
        }
      ],
      "source": [
        "!pip install git+https://github.com/andreinechaev/nvcc4jupyter.git\n"
      ]
    },
    {
      "cell_type": "code",
      "source": [
        "%load_ext nvcc4jupyter"
      ],
      "metadata": {
        "colab": {
          "base_uri": "https://localhost:8080/"
        },
        "id": "D-8Nex4UCy8L",
        "outputId": "76ff0b47-9926-4807-9ff8-b4f7da1a48d2"
      },
      "execution_count": 12,
      "outputs": [
        {
          "output_type": "stream",
          "name": "stdout",
          "text": [
            "The nvcc4jupyter extension is already loaded. To reload it, use:\n",
            "  %reload_ext nvcc4jupyter\n"
          ]
        }
      ]
    },
    {
      "cell_type": "code",
      "source": [
        "!nvcc --version"
      ],
      "metadata": {
        "colab": {
          "base_uri": "https://localhost:8080/"
        },
        "id": "pBIGGKcEC1ws",
        "outputId": "9f9ae073-5977-4b7b-e92c-b6d868c12590"
      },
      "execution_count": 13,
      "outputs": [
        {
          "output_type": "stream",
          "name": "stdout",
          "text": [
            "nvcc: NVIDIA (R) Cuda compiler driver\n",
            "Copyright (c) 2005-2023 NVIDIA Corporation\n",
            "Built on Tue_Aug_15_22:02:13_PDT_2023\n",
            "Cuda compilation tools, release 12.2, V12.2.140\n",
            "Build cuda_12.2.r12.2/compiler.33191640_0\n"
          ]
        }
      ]
    },
    {
      "cell_type": "code",
      "source": [
        "%%writefile matrixMul.cu"
      ],
      "metadata": {
        "colab": {
          "base_uri": "https://localhost:8080/"
        },
        "id": "hcK4urlwC-u-",
        "outputId": "9c38c789-ca8e-4fe0-e586-a87ef6fbf7ec"
      },
      "execution_count": 14,
      "outputs": [
        {
          "output_type": "stream",
          "name": "stdout",
          "text": [
            "Overwriting matrixMul.cu\n"
          ]
        }
      ]
    },
    {
      "cell_type": "code",
      "source": [
        "%%writefile matrixMul.cu\n",
        "#include <cmath>\n",
        "#include <cstdlib>\n",
        "#include <iostream>\n",
        "\n",
        "#define checkCudaErrors(call)                                                                 \\\n",
        "    do {                                                                                      \\\n",
        "        cudaError_t err = call;                                                               \\\n",
        "        if (err != cudaSuccess) {                                                             \\\n",
        "            printf(\"CUDA error at %s %d: %s\\n\", __FILE__, __LINE__, cudaGetErrorString(err)); \\\n",
        "            exit(EXIT_FAILURE);                                                               \\\n",
        "        }                                                                                     \\\n",
        "    } while (0)\n",
        "\n",
        "using namespace std;\n",
        "\n",
        "// Matrix multiplication Cuda\n",
        "__global__ void matrixMultiplication(int *a, int *b, int *c, int n) {\n",
        "    int row = threadIdx.y + blockDim.y * blockIdx.y;\n",
        "    int col = threadIdx.x + blockDim.x * blockIdx.x;\n",
        "    int sum = 0;\n",
        "\n",
        "    if (row < n && col < n)\n",
        "        for (int j = 0; j < n; j++) {\n",
        "            sum = sum + a[row * n + j] * b[j * n + col];\n",
        "        }\n",
        "\n",
        "    c[n * row + col] = sum;\n",
        "}\n",
        "\n",
        "int main() {\n",
        "    int *a, *b, *c;\n",
        "    int *a_dev, *b_dev, *c_dev;\n",
        "    int n = 3; // Matrix size is 3x3\n",
        "\n",
        "    a = new int[n * n];\n",
        "    b = new int[n * n];\n",
        "    c = new int[n * n];\n",
        "    int size = n * n * sizeof(int);\n",
        "    checkCudaErrors(cudaMalloc(&a_dev, size));\n",
        "    checkCudaErrors(cudaMalloc(&b_dev, size));\n",
        "    checkCudaErrors(cudaMalloc(&c_dev, size));\n",
        "\n",
        "    // Array initialization\n",
        "    for (int i = 0; i < n * n; i++) {\n",
        "        a[i] = rand() % 10;\n",
        "        b[i] = rand() % 10;\n",
        "    }\n",
        "\n",
        "    cout << \"Given matrix A is =>\\n\";\n",
        "    for (int row = 0; row < n; row++) {\n",
        "        for (int col = 0; col < n; col++) {\n",
        "            cout << a[row * n + col] << \" \";\n",
        "        }\n",
        "        cout << \"\\n\";\n",
        "    }\n",
        "    cout << \"\\n\";\n",
        "\n",
        "    cout << \"Given matrix B is =>\\n\";\n",
        "    for (int row = 0; row < n; row++) {\n",
        "        for (int col = 0; col < n; col++) {\n",
        "            cout << b[row * n + col] << \" \";\n",
        "        }\n",
        "        cout << \"\\n\";\n",
        "    }\n",
        "    cout << \"\\n\";\n",
        "\n",
        "    cudaEvent_t start, end;\n",
        "\n",
        "    checkCudaErrors(cudaEventCreate(&start));\n",
        "    checkCudaErrors(cudaEventCreate(&end));\n",
        "\n",
        "    checkCudaErrors(cudaMemcpy(a_dev, a, size, cudaMemcpyHostToDevice));\n",
        "    checkCudaErrors(cudaMemcpy(b_dev, b, size, cudaMemcpyHostToDevice));\n",
        "\n",
        "    dim3 threadsPerBlock(n, n);\n",
        "    dim3 blocksPerGrid(1, 1);\n",
        "\n",
        "    // GPU Multiplication\n",
        "    checkCudaErrors(cudaEventRecord(start));\n",
        "    matrixMultiplication<<<blocksPerGrid, threadsPerBlock>>>(a_dev, b_dev, c_dev, n);\n",
        "\n",
        "    checkCudaErrors(cudaEventRecord(end));\n",
        "    checkCudaErrors(cudaEventSynchronize(end));\n",
        "\n",
        "    float time = 0.0;\n",
        "    checkCudaErrors(cudaEventElapsedTime(&time, start, end));\n",
        "\n",
        "    checkCudaErrors(cudaMemcpy(c, c_dev, size, cudaMemcpyDeviceToHost));\n",
        "\n",
        "    cout << \"CPU product is =>\\n\";\n",
        "    for (int row = 0; row < n; row++) {\n",
        "        for (int col = 0; col < n; col++) {\n",
        "            int sum = 0;\n",
        "            for (int k = 0; k < n; k++) sum += a[row * n + k] * b[k * n + col];\n",
        "            cout << sum << \" \";\n",
        "        }\n",
        "        cout << \"\\n\";\n",
        "    }\n",
        "    cout << \"\\n\";\n",
        "\n",
        "    cout << \"GPU product is =>\\n\";\n",
        "    for (int row = 0; row < n; row++) {\n",
        "        for (int col = 0; col < n; col++) {\n",
        "            cout << c[row * n + col] << \" \";\n",
        "        }\n",
        "        cout << \"\\n\";\n",
        "    }\n",
        "    cout << \"\\n\";\n",
        "\n",
        "    int error = 0;\n",
        "    for (int row = 0; row < n; row++) {\n",
        "        for (int col = 0; col < n; col++) {\n",
        "            if (c[row * n + col] != a[row * n + col] * b[col * n + row]) {\n",
        "                error++;\n",
        "            }\n",
        "        }\n",
        "    }\n",
        "    cout << \"Error : \" << error;\n",
        "    cout << \"\\nTime Elapsed: \" << time;\n",
        "\n",
        "    return 0;\n",
        "}\n"
      ],
      "metadata": {
        "colab": {
          "base_uri": "https://localhost:8080/"
        },
        "id": "rIo7JxqrDCr3",
        "outputId": "94ab186a-8753-4512-e435-22cb6ebada66"
      },
      "execution_count": 15,
      "outputs": [
        {
          "output_type": "stream",
          "name": "stdout",
          "text": [
            "Overwriting matrixMul.cu\n"
          ]
        }
      ]
    },
    {
      "cell_type": "code",
      "source": [
        "%%writefile matrixVectorMul.cu\n",
        "#include <cmath>\n",
        "#include <cstdlib>\n",
        "#include <iostream>\n",
        "\n",
        "#define checkCudaErrors(call)                                                                 \\\n",
        "    do {                                                                                      \\\n",
        "        cudaError_t err = call;                                                               \\\n",
        "        if (err != cudaSuccess) {                                                             \\\n",
        "            printf(\"CUDA error at %s %d: %s\\n\", __FILE__, __LINE__, cudaGetErrorString(err)); \\\n",
        "            exit(EXIT_FAILURE);                                                               \\\n",
        "        }                                                                                     \\\n",
        "    } while (0)\n",
        "\n",
        "using namespace std;\n",
        "\n",
        "__global__ void matrixVectorMultiplication(int *a, int *b, int *c, int n) {\n",
        "    int row = threadIdx.x + blockDim.x * blockIdx.x;\n",
        "    int sum = 0;\n",
        "\n",
        "    if (row < n)\n",
        "        for (int j = 0; j < n; j++) {\n",
        "            sum = sum + a[row * n + j] * b[j];\n",
        "        }\n",
        "\n",
        "    c[row] = sum;\n",
        "}\n",
        "\n",
        "int main() {\n",
        "    int *a, *b, *c;\n",
        "    int *a_dev, *b_dev, *c_dev;\n",
        "    int n = 3; // Matrix size is 3x3\n",
        "\n",
        "    a = new int[n * n];\n",
        "    b = new int[n];\n",
        "    c = new int[n];\n",
        "    int *d = new int[n];\n",
        "    int size = n * sizeof(int);\n",
        "    checkCudaErrors(cudaMalloc(&a_dev, size * size));\n",
        "    checkCudaErrors(cudaMalloc(&b_dev, size));\n",
        "    checkCudaErrors(cudaMalloc(&c_dev, size));\n",
        "\n",
        "    for (int i = 0; i < n; i++) {\n",
        "        for (int j = 0; j < n; j++) {\n",
        "            a[i * n + j] = rand() % 10;\n",
        "        }\n",
        "        b[i] = rand() % 10;\n",
        "    }\n",
        "\n",
        "    cout << \"Given matrix is =>\\n\";\n",
        "    for (int row = 0; row < n; row++) {\n",
        "        for (int col = 0; col < n; col++) {\n",
        "            cout << a[row * n + col] << \" \";\n",
        "        }\n",
        "        cout << \"\\n\";\n",
        "    }\n",
        "    cout << \"\\n\";\n",
        "\n",
        "    cout << \"Given vector is =>\\n\";\n",
        "    for (int i = 0; i < n; i++) {\n",
        "        cout << b[i] << \", \";\n",
        "    }\n",
        "    cout << \"\\n\\n\";\n",
        "\n",
        "    cudaEvent_t start, end;\n",
        "\n",
        "    checkCudaErrors(cudaEventCreate(&start));\n",
        "    checkCudaErrors(cudaEventCreate(&end));\n",
        "\n",
        "    checkCudaErrors(cudaMemcpy(a_dev, a, size * size, cudaMemcpyHostToDevice));\n",
        "    checkCudaErrors(cudaMemcpy(b_dev, b, size, cudaMemcpyHostToDevice));\n",
        "\n",
        "    dim3 threadsPerBlock(n, n);\n",
        "    dim3 blocksPerGrid(1, 1);\n",
        "\n",
        "    checkCudaErrors(cudaEventRecord(start));\n",
        "    matrixVectorMultiplication<<<blocksPerGrid, threadsPerBlock>>>(a_dev, b_dev, c_dev, n);\n",
        "\n",
        "    checkCudaErrors(cudaEventRecord(end));\n",
        "    checkCudaErrors(cudaEventSynchronize(end));\n",
        "\n",
        "    float time = 0.0;\n",
        "    checkCudaErrors(cudaEventElapsedTime(&time, start, end));\n",
        "\n",
        "    checkCudaErrors(cudaMemcpy(c, c_dev, size, cudaMemcpyDeviceToHost));\n",
        "\n",
        "    // CPU matrixVector multiplication\n",
        "    int sum = 0;\n",
        "    for (int row = 0; row < n; row++) {\n",
        "        sum = 0;\n",
        "        for (int col = 0; col < n; col++) {\n",
        "            sum = sum + a[row * n + col] * b[col];\n",
        "        }\n",
        "        d[row] = sum;\n",
        "    }\n",
        "\n",
        "    cout << \"CPU product is =>\\n\";\n",
        "    for (int i = 0; i < n; i++) {\n",
        "        cout << d[i] << \", \";\n",
        "    }\n",
        "    cout << \"\\n\\n\";\n",
        "\n",
        "    cout << \"GPU product is =>\\n\";\n",
        "    for (int i = 0; i < n; i++) {\n",
        "        cout << c[i] << \", \";\n",
        "    }\n",
        "    cout << \"\\n\\n\";\n",
        "\n",
        "    int error = 0;\n",
        "    for (int i = 0; i < n; i++) {\n",
        "        error += d[i] - c[i];\n",
        "        if (0 != (d[i] - c[i])) {\n",
        "            cout << \"Error at (\" << i << \") => GPU: \" << c[i] << \", CPU: \" << d[i] << \"\\n\";\n",
        "        }\n",
        "    }\n",
        "\n",
        "    cout << \"Error: \" << error;\n",
        "    cout << \"\\nTime Elapsed: \" << time;\n",
        "\n",
        "    return 0;\n",
        "}\n"
      ],
      "metadata": {
        "colab": {
          "base_uri": "https://localhost:8080/"
        },
        "id": "vc9CA5l0DFlu",
        "outputId": "d751fc49-2412-4f77-e4d7-639ffa57c398"
      },
      "execution_count": 16,
      "outputs": [
        {
          "output_type": "stream",
          "name": "stdout",
          "text": [
            "Overwriting matrixVectorMul.cu\n"
          ]
        }
      ]
    },
    {
      "cell_type": "code",
      "source": [
        "%%writefile vectorAdd.cu\n",
        "#include <cstdlib>\n",
        "#include <iostream>\n",
        "\n",
        "#define checkCudaErrors(call)                                                                 \\\n",
        "    do {                                                                                      \\\n",
        "        cudaError_t err = call;                                                               \\\n",
        "        if (err != cudaSuccess) {                                                             \\\n",
        "            printf(\"CUDA error at %s %d: %s\\n\", __FILE__, __LINE__, cudaGetErrorString(err)); \\\n",
        "            exit(EXIT_FAILURE);                                                               \\\n",
        "        }                                                                                     \\\n",
        "    } while (0)\n",
        "\n",
        "using namespace std;\n",
        "\n",
        "// VectorAdd parallel function\n",
        "__global__ void vectorAdd(int *a, int *b, int *result, int n) {\n",
        "    int tid = threadIdx.x + blockIdx.x * blockDim.x;\n",
        "    if (tid < n) {\n",
        "        result[tid] = a[tid] + b[tid];\n",
        "    }\n",
        "}\n",
        "\n",
        "int main() {\n",
        "    int *a, *b, *c;\n",
        "    int *a_dev, *b_dev, *c_dev;\n",
        "    int n = 1 << 4;\n",
        "\n",
        "    a = new int[n];\n",
        "    b = new int[n];\n",
        "    c = new int[n];\n",
        "    int *d = new int[n];\n",
        "    int size = n * sizeof(int);\n",
        "    checkCudaErrors(cudaMalloc(&a_dev, size));\n",
        "    checkCudaErrors(cudaMalloc(&b_dev, size));\n",
        "    checkCudaErrors(cudaMalloc(&c_dev, size));\n",
        "\n",
        "    // Array initialization..You can use Randon function to assign values\n",
        "    for (int i = 0; i < n; i++) {\n",
        "        a[i] = rand() % 1000;\n",
        "        b[i] = rand() % 1000;\n",
        "        d[i] = a[i] + b[i];  // calculating serial addition\n",
        "    }\n",
        "    cout << \"Given array A is =>\\n\";\n",
        "    for (int i = 0; i < n; i++) {\n",
        "        cout << a[i] << \", \";\n",
        "    }\n",
        "    cout << \"\\n\\n\";\n",
        "\n",
        "    cout << \"Given array B is =>\\n\";\n",
        "    for (int i = 0; i < n; i++) {\n",
        "        cout << b[i] << \", \";\n",
        "    }\n",
        "    cout << \"\\n\\n\";\n",
        "\n",
        "    cudaEvent_t start, end;\n",
        "\n",
        "    checkCudaErrors(cudaEventCreate(&start));\n",
        "    checkCudaErrors(cudaEventCreate(&end));\n",
        "\n",
        "    checkCudaErrors(cudaMemcpy(a_dev, a, size, cudaMemcpyHostToDevice));\n",
        "    checkCudaErrors(cudaMemcpy(b_dev, b, size, cudaMemcpyHostToDevice));\n",
        "    int threads = 1024;\n",
        "    int blocks = (n + threads - 1) / threads;\n",
        "    checkCudaErrors(cudaEventRecord(start));\n",
        "\n",
        "    // Parallel addition program\n",
        "    vectorAdd<<<blocks, threads>>>(a_dev, b_dev, c_dev, n);\n",
        "\n",
        "    checkCudaErrors(cudaEventRecord(end));\n",
        "    checkCudaErrors(cudaEventSynchronize(end));\n",
        "\n",
        "    float time = 0.0;\n",
        "    checkCudaErrors(cudaEventElapsedTime(&time, start, end));\n",
        "\n",
        "    checkCudaErrors(cudaMemcpy(c, c_dev, size, cudaMemcpyDeviceToHost));\n",
        "\n",
        "    // Calculate the error term.\n",
        "\n",
        "    cout << \"CPU sum is =>\\n\";\n",
        "    for (int i = 0; i < n; i++) {\n",
        "        cout << d[i] << \", \";\n",
        "    }\n",
        "    cout << \"\\n\\n\";\n",
        "\n",
        "    cout << \"GPU sum is =>\\n\";\n",
        "    for (int i = 0; i < n; i++) {\n",
        "        cout << c[i] << \", \";\n",
        "    }\n",
        "    cout << \"\\n\\n\";\n",
        "\n",
        "    int error = 0;\n",
        "    for (int i = 0; i < n; i++) {\n",
        "        error += d[i] - c[i];\n",
        "        if (0 != (d[i] - c[i])) {\n",
        "            cout << \"Error at (\" << i << \") => GPU: \" << c[i] << \", CPU: \" << d[i] << \"\\n\";\n",
        "        }\n",
        "    }\n",
        "\n",
        "    cout << \"\\nError : \" << error;\n",
        "    cout << \"\\nTime Elapsed: \" << time;\n",
        "\n",
        "    return 0;\n",
        "}"
      ],
      "metadata": {
        "colab": {
          "base_uri": "https://localhost:8080/"
        },
        "id": "eD-we3u3Dbu9",
        "outputId": "b486e78f-d99d-4405-c3de-7c09f879df34"
      },
      "execution_count": 17,
      "outputs": [
        {
          "output_type": "stream",
          "name": "stdout",
          "text": [
            "Overwriting vectorAdd.cu\n"
          ]
        }
      ]
    },
    {
      "cell_type": "code",
      "source": [
        "# run command for first code\n",
        "!nvcc -dc matrixMul.cu\n",
        "!nvcc *.o -o ./matrixMul && ./matrixMul\n",
        "!rm -rf *.o"
      ],
      "metadata": {
        "colab": {
          "base_uri": "https://localhost:8080/"
        },
        "id": "pLFwlFE7DeeM",
        "outputId": "9d1976f5-2ffa-45eb-a065-0da2d3525cbc"
      },
      "execution_count": 18,
      "outputs": [
        {
          "output_type": "stream",
          "name": "stdout",
          "text": [
            "Given matrix A is =>\n",
            "3 7 3 \n",
            "6 9 2 \n",
            "0 3 0 \n",
            "\n",
            "Given matrix B is =>\n",
            "6 5 5 \n",
            "2 1 7 \n",
            "9 6 6 \n",
            "\n",
            "CPU product is =>\n",
            "59 40 82 \n",
            "72 51 105 \n",
            "6 3 21 \n",
            "\n",
            "GPU product is =>\n",
            "59 40 82 \n",
            "72 51 105 \n",
            "6 3 21 \n",
            "\n",
            "Error : 9\n",
            "Time Elapsed: 1.87293"
          ]
        }
      ]
    },
    {
      "cell_type": "code",
      "source": [
        "# run command for 2nd code\n",
        "!nvcc -dc matrixVectorMul.cu\n",
        "!nvcc *.o -o ./matrixVectorMul && ./matrixVectorMul\n",
        "!rm -rf *.o"
      ],
      "metadata": {
        "colab": {
          "base_uri": "https://localhost:8080/"
        },
        "id": "QdiypzwsDm99",
        "outputId": "53cb58f7-97eb-4634-e69f-09cebd16eedc"
      },
      "execution_count": 19,
      "outputs": [
        {
          "output_type": "stream",
          "name": "stdout",
          "text": [
            "Given matrix is =>\n",
            "3 6 7 \n",
            "3 5 6 \n",
            "9 1 2 \n",
            "\n",
            "Given vector is =>\n",
            "5, 2, 7, \n",
            "\n",
            "CPU product is =>\n",
            "76, 67, 61, \n",
            "\n",
            "GPU product is =>\n",
            "76, 67, 61, \n",
            "\n",
            "Error: 0\n",
            "Time Elapsed: 1.42346"
          ]
        }
      ]
    },
    {
      "cell_type": "code",
      "source": [
        "# run command for 3rd code\n",
        "!nvcc -dc vectorAdd.cu\n",
        "!nvcc *.o -o ./vectorAdd && ./vectorAdd\n",
        "!rm -rf *.o"
      ],
      "metadata": {
        "colab": {
          "base_uri": "https://localhost:8080/"
        },
        "id": "egSEXnAeDuTq",
        "outputId": "8c74797e-cf7b-4d33-bca3-9ef811a4639c"
      },
      "execution_count": 20,
      "outputs": [
        {
          "output_type": "stream",
          "name": "stdout",
          "text": [
            "Given array A is =>\n",
            "383, 777, 793, 386, 649, 362, 690, 763, 540, 172, 211, 567, 782, 862, 67, 929, \n",
            "\n",
            "Given array B is =>\n",
            "886, 915, 335, 492, 421, 27, 59, 926, 426, 736, 368, 429, 530, 123, 135, 802, \n",
            "\n",
            "CPU sum is =>\n",
            "1269, 1692, 1128, 878, 1070, 389, 749, 1689, 966, 908, 579, 996, 1312, 985, 202, 1731, \n",
            "\n",
            "GPU sum is =>\n",
            "1269, 1692, 1128, 878, 1070, 389, 749, 1689, 966, 908, 579, 996, 1312, 985, 202, 1731, \n",
            "\n",
            "\n",
            "Error : 0\n",
            "Time Elapsed: 2.61485"
          ]
        }
      ]
    }
  ]
}